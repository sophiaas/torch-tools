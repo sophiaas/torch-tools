{
 "cells": [
  {
   "cell_type": "code",
   "execution_count": 1,
   "id": "0161cf87-9394-449f-b70d-b20ec66923aa",
   "metadata": {},
   "outputs": [],
   "source": [
    "%load_ext autoreload\n",
    "%autoreload 2"
   ]
  },
  {
   "cell_type": "code",
   "execution_count": 2,
   "id": "852f27bf-c8d4-4b95-9ee9-16d28cc03bba",
   "metadata": {},
   "outputs": [],
   "source": [
    "from spectral_networks.nn.models import ReLUNet\n",
    "from transform_datasets.patterns.synthetic import *\n",
    "from transform_datasets.transforms import *\n",
    "from transform_datasets.utils.wandb import load_or_create_dataset\n",
    "from torch_tools.trainer import Trainer\n",
    "from torch_tools.logger import WBLogger\n",
    "from torch_tools.config import Config\n",
    "from torch_tools.regularizer import Regularizer, MultiRegularizer\n",
    "from torch_tools.functional import l1_norm\n",
    "\n",
    "from torch_tools.data import TrainValLoader\n",
    "from pytorch_metric_learning import losses, distances\n",
    "from torch.optim import Adam\n",
    "\n",
    "from torch_tools.plotter import Plotter, MultiPlotter\n",
    "from spectral_networks.analysis.wandb import gen_avg_data_spectrum_plot_1D, gen_UVW_analysis_plots_1D\n",
    "from spectral_networks.analysis.wandb import gen_avg_data_spectrum_plot_2D, gen_UVW_analysis_plots_2D"
   ]
  },
  {
   "cell_type": "code",
   "execution_count": 3,
   "id": "fe2f70b3-8861-4c11-b5dd-83fe7fda9382",
   "metadata": {},
   "outputs": [],
   "source": [
    "DATA_PROJECT = \"dataset\"\n",
    "MODEL_PROJECT = \"bispectrum\"\n",
    "ENTITY = \"naturalcomputation\"\n",
    "DEVICE = \"cuda:0\"\n",
    "SEED = 0\n",
    "\n",
    "\"\"\"\n",
    "DATASET\n",
    "\"\"\"\n",
    "\n",
    "dataset_config = Config(\n",
    "    {\n",
    "        \"type\": HarmonicsS1,\n",
    "        \"params\": {\"dim\": 256, \"n_classes\": 10, \"seed\": 5},\n",
    "    }\n",
    ")\n",
    "\n",
    "transforms_config = {\n",
    "    \"0\": Config(\n",
    "        {\n",
    "            \"type\": CyclicTranslation1D,\n",
    "            \"params\": {\n",
    "                \"fraction_transforms\": 1.0,\n",
    "                \"sample_method\": \"linspace\",\n",
    "            },\n",
    "        }\n",
    "    ),\n",
    "    \"1\": Config(\n",
    "        {\n",
    "            \"type\": UniformNoise,\n",
    "            \"params\": {\"n_samples\": 1, \"magnitude\": 0.1},\n",
    "        }\n",
    "    ),\n",
    "}\n",
    "\n",
    "\n",
    "tdataset_config = {\"dataset\": dataset_config, \"transforms\": transforms_config}\n",
    "\n",
    "dataset = load_or_create_dataset(tdataset_config, DATA_PROJECT, ENTITY)\n",
    "\n",
    "\"\"\"\n",
    "DATA_LOADER\n",
    "\"\"\"\n",
    "\n",
    "data_loader_config = Config(\n",
    "    {\n",
    "        \"type\": TrainValLoader,\n",
    "        \"params\": {\n",
    "            \"batch_size\": 32,\n",
    "            \"fraction_val\": 0.2,\n",
    "            \"num_workers\": 1,\n",
    "            \"seed\": SEED,\n",
    "        },\n",
    "    }\n",
    ")\n",
    "\n",
    "data_loader = data_loader_config.build()\n",
    "data_loader.load(dataset)"
   ]
  },
  {
   "cell_type": "code",
   "execution_count": 4,
   "id": "d800d3b4-1680-4eec-a776-27fb09f0f745",
   "metadata": {},
   "outputs": [
    {
     "name": "stderr",
     "output_type": "stream",
     "text": [
      "\u001b[34m\u001b[1mwandb\u001b[0m: Currently logged in as: \u001b[33mshewmake\u001b[0m (use `wandb login --relogin` to force relogin)\n",
      "\u001b[34m\u001b[1mwandb\u001b[0m: wandb version 0.12.0 is available!  To upgrade, please run:\n",
      "\u001b[34m\u001b[1mwandb\u001b[0m:  $ pip install wandb --upgrade\n"
     ]
    },
    {
     "data": {
      "text/html": [
       "\n",
       "                Tracking run with wandb version 0.11.0<br/>\n",
       "                Syncing run <strong style=\"color:#cdcd00\">scarlet-sunset-86</strong> to <a href=\"https://wandb.ai\" target=\"_blank\">Weights & Biases</a> <a href=\"https://docs.wandb.com/integrations/jupyter.html\" target=\"_blank\">(Documentation)</a>.<br/>\n",
       "                Project page: <a href=\"https://wandb.ai/naturalcomputation/bispectrum\" target=\"_blank\">https://wandb.ai/naturalcomputation/bispectrum</a><br/>\n",
       "                Run page: <a href=\"https://wandb.ai/naturalcomputation/bispectrum/runs/1ue6ffaq\" target=\"_blank\">https://wandb.ai/naturalcomputation/bispectrum/runs/1ue6ffaq</a><br/>\n",
       "                Run data is saved locally in <code>/home/christians/learning-lie-groups/torch-tools/examples/wandb/run-20210811_230917-1ue6ffaq</code><br/><br/>\n",
       "            "
      ],
      "text/plain": [
       "<IPython.core.display.HTML object>"
      ]
     },
     "metadata": {},
     "output_type": "display_data"
    }
   ],
   "source": [
    "\"\"\"\n",
    "MODEL\n",
    "\"\"\"\n",
    "model_config = Config(\n",
    "    {\n",
    "        \"type\": ReLUNet,\n",
    "        \"params\": {\n",
    "            \"size_in\": dataset.dim,\n",
    "            \"hdim\": [256],\n",
    "            \"seed\": SEED,\n",
    "            \"device\": 'cuda:0'\n",
    "        },\n",
    "    }\n",
    ")\n",
    "model = model_config.build()\n",
    "\n",
    "\"\"\"\n",
    "OPTIMIZER\n",
    "\"\"\"\n",
    "optimizer_config = Config({\"type\": Adam, \"params\": {\"lr\": 0.001}})\n",
    "# optimizer = optimizer_config.build()\n",
    "\n",
    "\n",
    "'''\n",
    "REGULARIZER\n",
    "'''\n",
    "regularizer_config1 = Config({'type': Regularizer, 'params': {'function': l1_norm, \n",
    "                                              'variables': ['out'],\n",
    "                                              'coefficient': 0.1\n",
    "                                             }\n",
    "                         })\n",
    "\n",
    "regularizer_config2 = Config({'type': Regularizer, 'params': {'function': l1_norm, \n",
    "                                              'variables': ['out'],\n",
    "                                              'coefficient': 1\n",
    "                                             }\n",
    "                         })\n",
    "\n",
    "multiregularizer_config = Config({'type': MultiRegularizer, 'params': {'regularizer_configs': [regularizer_config1, regularizer_config2]}})\n",
    "regularizer = multiregularizer_config.build()\n",
    "\n",
    "\n",
    "\"\"\"\n",
    "LOSS\n",
    "\"\"\"\n",
    "loss_config = Config(\n",
    "    {\n",
    "        \"type\": losses.ContrastiveLoss,\n",
    "        \"params\": {\n",
    "            \"pos_margin\": 0,\n",
    "            \"neg_margin\": 1,\n",
    "            \"distance\": distances.LpDistance(),\n",
    "        },\n",
    "    }\n",
    ")\n",
    "loss = loss_config.build()\n",
    "\n",
    "\"\"\"\n",
    "MASTER CONFIG\n",
    "\"\"\"\n",
    "\n",
    "config = {\n",
    "    \"dataset\": dataset_config,\n",
    "    \"model\": model_config,\n",
    "    \"optimizer\": optimizer_config,\n",
    "    \"loss\": loss_config,\n",
    "    \"data_loader\": data_loader_config,\n",
    "}\n",
    "\n",
    "'''\n",
    "PLOTTER\n",
    "'''\n",
    "# plotter_config1 = Config({'type': Plotter, 'params': {'function': gen_UVW_analysis_plots_1D, \n",
    "#                                               'variables': ['model'],\n",
    "#                                               'f_params': {'use_wandb': True}\n",
    "#                                              }\n",
    "#                          })\n",
    "\n",
    "plotter_config2 = Config({'type': Plotter, 'params': {'function': gen_avg_data_spectrum_plot_1D, \n",
    "                                              'variables': ['train_data'],\n",
    "                                              'f_params': {'use_wandb': True},\n",
    "                                              'tag': 'train'\n",
    "                                             }\n",
    "                         })\n",
    "\n",
    "plotter_config3 = Config({'type': Plotter, 'params': {'function': gen_avg_data_spectrum_plot_1D, \n",
    "                                              'variables': ['val_data'],\n",
    "                                              'f_params': {'use_wandb': True},\n",
    "                                              'tag': 'val'\n",
    "                                             }\n",
    "                         })\n",
    "\n",
    "multiplotter_config = Config({'type': MultiPlotter, 'params': {'plotter_configs': [plotter_config2, plotter_config3]}})\n",
    "plotter = multiplotter_config.build()\n",
    "\n",
    "\"\"\"\n",
    "LOGGING\n",
    "\"\"\"\n",
    "logging_config = Config(\n",
    "    {\n",
    "        \"type\": WBLogger,\n",
    "        \"params\": {\n",
    "            \"config\": config,\n",
    "            \"project\": MODEL_PROJECT,\n",
    "            \"entity\": ENTITY,\n",
    "            \"log_interval\": 10,\n",
    "            \"watch_interval\": 10 * len(data_loader.train),\n",
    "            \"plotter\": plotter\n",
    "        },\n",
    "    }\n",
    ")\n",
    "\n",
    "logger = logging_config.build()\n"
   ]
  },
  {
   "cell_type": "code",
   "execution_count": 5,
   "id": "82a14649-b213-4621-89d8-853af0e23e7c",
   "metadata": {},
   "outputs": [],
   "source": [
    "\"\"\"\n",
    "TRAINER\n",
    "\"\"\"\n",
    "\n",
    "training_config = Config(\n",
    "    {\n",
    "        \"type\": Trainer,\n",
    "        \"params\": {\n",
    "            \"model\": model,\n",
    "            \"loss\": loss,\n",
    "            \"logger\": logger,\n",
    "            \"regularizer\": regularizer,\n",
    "            \"device\": DEVICE,\n",
    "            \"optimizer_config\": optimizer_config,\n",
    "        },\n",
    "    }\n",
    ")\n",
    "\n",
    "trainer = training_config.build()"
   ]
  },
  {
   "cell_type": "code",
   "execution_count": 6,
   "id": "9837cb4e-43b6-455b-972b-98426d4308ed",
   "metadata": {},
   "outputs": [
    {
     "name": "stdout",
     "output_type": "stream",
     "text": [
      "Epoch 0 ||  N Examples 0 || Train Total Loss 1220.19434 || Validation Total Loss 591.98187\n",
      "Epoch 1 ||  N Examples 2560 || Train Total Loss 411.13034 || Validation Total Loss 313.99680\n",
      "Epoch 2 ||  N Examples 5120 || Train Total Loss 311.36636 || Validation Total Loss 295.79642\n",
      "Epoch 3 ||  N Examples 7680 || Train Total Loss 289.18088 || Validation Total Loss 301.02658\n",
      "Epoch 4 ||  N Examples 10240 || Train Total Loss 289.71671 || Validation Total Loss 287.59137\n",
      "Epoch 5 ||  N Examples 12800 || Train Total Loss 283.72217 || Validation Total Loss 281.79419\n",
      "Epoch 6 ||  N Examples 15360 || Train Total Loss 276.84799 || Validation Total Loss 282.78635\n",
      "Epoch 7 ||  N Examples 17920 || Train Total Loss 269.70743 || Validation Total Loss 284.57587\n",
      "Epoch 8 ||  N Examples 20480 || Train Total Loss 268.85480 || Validation Total Loss 273.43777\n",
      "Epoch 9 ||  N Examples 23040 || Train Total Loss 265.91498 || Validation Total Loss 290.03711\n",
      "Epoch 10 ||  N Examples 25600 || Train Total Loss 257.00452 || Validation Total Loss 260.33890\n"
     ]
    },
    {
     "data": {
      "text/html": [
       "<br/>Waiting for W&B process to finish, PID 13603<br/>Program ended successfully."
      ],
      "text/plain": [
       "<IPython.core.display.HTML object>"
      ]
     },
     "metadata": {},
     "output_type": "display_data"
    },
    {
     "data": {
      "application/vnd.jupyter.widget-view+json": {
       "model_id": "",
       "version_major": 2,
       "version_minor": 0
      },
      "text/plain": [
       "VBox(children=(Label(value=' 0.03MB of 0.03MB uploaded (0.00MB deduped)\\r'), FloatProgress(value=1.0, max=1.0)…"
      ]
     },
     "metadata": {},
     "output_type": "display_data"
    },
    {
     "data": {
      "text/html": [
       "Find user logs for this run at: <code>/home/christians/learning-lie-groups/torch-tools/examples/wandb/run-20210811_230917-1ue6ffaq/logs/debug.log</code>"
      ],
      "text/plain": [
       "<IPython.core.display.HTML object>"
      ]
     },
     "metadata": {},
     "output_type": "display_data"
    },
    {
     "data": {
      "text/html": [
       "Find internal logs for this run at: <code>/home/christians/learning-lie-groups/torch-tools/examples/wandb/run-20210811_230917-1ue6ffaq/logs/debug-internal.log</code>"
      ],
      "text/plain": [
       "<IPython.core.display.HTML object>"
      ]
     },
     "metadata": {},
     "output_type": "display_data"
    },
    {
     "data": {
      "text/html": [
       "<h3>Run summary:</h3><br/><style>\n",
       "    table.wandb td:nth-child(1) { padding: 0 10px; text-align: right }\n",
       "    </style><table class=\"wandb\">\n",
       "<tr><td>train_loss</td><td>1.19611</td></tr><tr><td>train_reg_loss</td><td>255.80835</td></tr><tr><td>train_total_loss</td><td>257.00452</td></tr><tr><td>epoch</td><td>10</td></tr><tr><td>n_examples</td><td>25600</td></tr><tr><td>_runtime</td><td>13</td></tr><tr><td>_timestamp</td><td>1628748570</td></tr><tr><td>_step</td><td>4</td></tr><tr><td>val_loss</td><td>1.18004</td></tr><tr><td>val_reg_loss</td><td>259.15884</td></tr><tr><td>val_total_loss</td><td>260.3389</td></tr></table>"
      ],
      "text/plain": [
       "<IPython.core.display.HTML object>"
      ]
     },
     "metadata": {},
     "output_type": "display_data"
    },
    {
     "data": {
      "text/html": [
       "<h3>Run history:</h3><br/><style>\n",
       "    table.wandb td:nth-child(1) { padding: 0 10px; text-align: right }\n",
       "    </style><table class=\"wandb\">\n",
       "<tr><td>train_loss</td><td>█▁</td></tr><tr><td>train_reg_loss</td><td>█▁</td></tr><tr><td>train_total_loss</td><td>█▁</td></tr><tr><td>epoch</td><td>▁▁██</td></tr><tr><td>n_examples</td><td>▁▁██</td></tr><tr><td>_runtime</td><td>▁▁███</td></tr><tr><td>_timestamp</td><td>▁▁███</td></tr><tr><td>_step</td><td>▁▃▅▆█</td></tr><tr><td>val_loss</td><td>█▁</td></tr><tr><td>val_reg_loss</td><td>█▁</td></tr><tr><td>val_total_loss</td><td>█▁</td></tr></table><br/>"
      ],
      "text/plain": [
       "<IPython.core.display.HTML object>"
      ]
     },
     "metadata": {},
     "output_type": "display_data"
    },
    {
     "data": {
      "text/html": [
       "Synced 6 W&B file(s), 2 media file(s), 0 artifact file(s) and 0 other file(s)"
      ],
      "text/plain": [
       "<IPython.core.display.HTML object>"
      ]
     },
     "metadata": {},
     "output_type": "display_data"
    },
    {
     "data": {
      "text/html": [
       "\n",
       "                    <br/>Synced <strong style=\"color:#cdcd00\">scarlet-sunset-86</strong>: <a href=\"https://wandb.ai/naturalcomputation/bispectrum/runs/1ue6ffaq\" target=\"_blank\">https://wandb.ai/naturalcomputation/bispectrum/runs/1ue6ffaq</a><br/>\n",
       "                "
      ],
      "text/plain": [
       "<IPython.core.display.HTML object>"
      ]
     },
     "metadata": {},
     "output_type": "display_data"
    }
   ],
   "source": [
    "trainer.train(data_loader, epochs = 10)"
   ]
  },
  {
   "cell_type": "code",
   "execution_count": 7,
   "id": "82a406e6-be22-466d-a84a-669e1d3a38b6",
   "metadata": {},
   "outputs": [
    {
     "name": "stderr",
     "output_type": "stream",
     "text": [
      "\u001b[34m\u001b[1mwandb\u001b[0m: wandb version 0.12.0 is available!  To upgrade, please run:\n",
      "\u001b[34m\u001b[1mwandb\u001b[0m:  $ pip install wandb --upgrade\n"
     ]
    },
    {
     "data": {
      "text/html": [
       "\n",
       "                Tracking run with wandb version 0.11.0<br/>\n",
       "                Resuming run <strong style=\"color:#cdcd00\">scarlet-sunset-86</strong> to <a href=\"https://wandb.ai\" target=\"_blank\">Weights & Biases</a> <a href=\"https://docs.wandb.com/integrations/jupyter.html\" target=\"_blank\">(Documentation)</a>.<br/>\n",
       "                Project page: <a href=\"https://wandb.ai/naturalcomputation/bispectrum\" target=\"_blank\">https://wandb.ai/naturalcomputation/bispectrum</a><br/>\n",
       "                Run page: <a href=\"https://wandb.ai/naturalcomputation/bispectrum/runs/1ue6ffaq\" target=\"_blank\">https://wandb.ai/naturalcomputation/bispectrum/runs/1ue6ffaq</a><br/>\n",
       "                Run data is saved locally in <code>/home/christians/learning-lie-groups/torch-tools/examples/wandb/run-20210811_230934-1ue6ffaq</code><br/><br/>\n",
       "            "
      ],
      "text/plain": [
       "<IPython.core.display.HTML object>"
      ]
     },
     "metadata": {},
     "output_type": "display_data"
    },
    {
     "name": "stdout",
     "output_type": "stream",
     "text": [
      "Epoch 10 ||  N Examples 28160 || Train Total Loss 248.80884 || Validation Total Loss 258.52383\n",
      "Epoch 11 ||  N Examples 30720 || Train Total Loss 243.10643 || Validation Total Loss 250.33142\n",
      "Epoch 12 ||  N Examples 33280 || Train Total Loss 241.74835 || Validation Total Loss 246.22932\n",
      "Epoch 13 ||  N Examples 35840 || Train Total Loss 235.39255 || Validation Total Loss 246.32678\n",
      "Epoch 14 ||  N Examples 38400 || Train Total Loss 227.36395 || Validation Total Loss 233.06372\n",
      "Epoch 15 ||  N Examples 40960 || Train Total Loss 220.58293 || Validation Total Loss 234.19165\n",
      "Epoch 16 ||  N Examples 43520 || Train Total Loss 214.53622 || Validation Total Loss 229.76579\n",
      "Epoch 17 ||  N Examples 46080 || Train Total Loss 211.59363 || Validation Total Loss 231.73355\n",
      "Epoch 18 ||  N Examples 48640 || Train Total Loss 204.53821 || Validation Total Loss 219.04488\n",
      "Epoch 19 ||  N Examples 51200 || Train Total Loss 202.05453 || Validation Total Loss 229.27260\n",
      "Epoch 20 ||  N Examples 53760 || Train Total Loss 197.64523 || Validation Total Loss 220.54938\n"
     ]
    },
    {
     "data": {
      "text/html": [
       "<br/>Waiting for W&B process to finish, PID 14104<br/>Program ended successfully."
      ],
      "text/plain": [
       "<IPython.core.display.HTML object>"
      ]
     },
     "metadata": {},
     "output_type": "display_data"
    },
    {
     "data": {
      "application/vnd.jupyter.widget-view+json": {
       "model_id": "",
       "version_major": 2,
       "version_minor": 0
      },
      "text/plain": [
       "VBox(children=(Label(value=' 0.03MB of 0.03MB uploaded (0.00MB deduped)\\r'), FloatProgress(value=1.0, max=1.0)…"
      ]
     },
     "metadata": {},
     "output_type": "display_data"
    },
    {
     "data": {
      "text/html": [
       "Find user logs for this run at: <code>/home/christians/learning-lie-groups/torch-tools/examples/wandb/run-20210811_230934-1ue6ffaq/logs/debug.log</code>"
      ],
      "text/plain": [
       "<IPython.core.display.HTML object>"
      ]
     },
     "metadata": {},
     "output_type": "display_data"
    },
    {
     "data": {
      "text/html": [
       "Find internal logs for this run at: <code>/home/christians/learning-lie-groups/torch-tools/examples/wandb/run-20210811_230934-1ue6ffaq/logs/debug-internal.log</code>"
      ],
      "text/plain": [
       "<IPython.core.display.HTML object>"
      ]
     },
     "metadata": {},
     "output_type": "display_data"
    },
    {
     "data": {
      "text/html": [
       "<h3>Run summary:</h3><br/><style>\n",
       "    table.wandb td:nth-child(1) { padding: 0 10px; text-align: right }\n",
       "    </style><table class=\"wandb\">\n",
       "<tr><td>_runtime</td><td>24</td></tr><tr><td>train_total_loss</td><td>197.64523</td></tr><tr><td>n_examples</td><td>53760</td></tr><tr><td>train_reg_loss</td><td>196.43695</td></tr><tr><td>epoch</td><td>20</td></tr><tr><td>val_reg_loss</td><td>219.34697</td></tr><tr><td>_step</td><td>9</td></tr><tr><td>train_loss</td><td>1.20826</td></tr><tr><td>_timestamp</td><td>1628748584</td></tr><tr><td>val_loss</td><td>1.20241</td></tr><tr><td>val_total_loss</td><td>220.54938</td></tr></table>"
      ],
      "text/plain": [
       "<IPython.core.display.HTML object>"
      ]
     },
     "metadata": {},
     "output_type": "display_data"
    },
    {
     "data": {
      "text/html": [
       "<h3>Run history:</h3><br/><style>\n",
       "    table.wandb td:nth-child(1) { padding: 0 10px; text-align: right }\n",
       "    </style><table class=\"wandb\">\n",
       "<tr><td>train_loss</td><td>▁█</td></tr><tr><td>train_reg_loss</td><td>█▁</td></tr><tr><td>train_total_loss</td><td>█▁</td></tr><tr><td>epoch</td><td>▁▁██</td></tr><tr><td>n_examples</td><td>▁▁██</td></tr><tr><td>_runtime</td><td>▁▁███</td></tr><tr><td>_timestamp</td><td>▁▁███</td></tr><tr><td>_step</td><td>▁▃▅▆█</td></tr><tr><td>val_loss</td><td>▁█</td></tr><tr><td>val_reg_loss</td><td>█▁</td></tr><tr><td>val_total_loss</td><td>█▁</td></tr></table><br/>"
      ],
      "text/plain": [
       "<IPython.core.display.HTML object>"
      ]
     },
     "metadata": {},
     "output_type": "display_data"
    },
    {
     "data": {
      "text/html": [
       "Synced 3 W&B file(s), 2 media file(s), 0 artifact file(s) and 0 other file(s)"
      ],
      "text/plain": [
       "<IPython.core.display.HTML object>"
      ]
     },
     "metadata": {},
     "output_type": "display_data"
    },
    {
     "data": {
      "text/html": [
       "\n",
       "                    <br/>Synced <strong style=\"color:#cdcd00\">scarlet-sunset-86</strong>: <a href=\"https://wandb.ai/naturalcomputation/bispectrum/runs/1ue6ffaq\" target=\"_blank\">https://wandb.ai/naturalcomputation/bispectrum/runs/1ue6ffaq</a><br/>\n",
       "                "
      ],
      "text/plain": [
       "<IPython.core.display.HTML object>"
      ]
     },
     "metadata": {},
     "output_type": "display_data"
    }
   ],
   "source": [
    "trainer.resume(data_loader, epochs=10)"
   ]
  }
 ],
 "metadata": {
  "kernelspec": {
   "display_name": "“torch18”",
   "language": "python",
   "name": "torch18"
  },
  "language_info": {
   "codemirror_mode": {
    "name": "ipython",
    "version": 3
   },
   "file_extension": ".py",
   "mimetype": "text/x-python",
   "name": "python",
   "nbconvert_exporter": "python",
   "pygments_lexer": "ipython3",
   "version": "3.9.2"
  }
 },
 "nbformat": 4,
 "nbformat_minor": 5
}
