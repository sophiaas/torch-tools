{
 "cells": [
  {
   "cell_type": "code",
   "execution_count": null,
   "id": "0161cf87-9394-449f-b70d-b20ec66923aa",
   "metadata": {},
   "outputs": [],
   "source": [
    "%load_ext autoreload\n",
    "%autoreload 2"
   ]
  },
  {
   "cell_type": "code",
   "execution_count": 1,
   "id": "852f27bf-c8d4-4b95-9ee9-16d28cc03bba",
   "metadata": {},
   "outputs": [],
   "source": [
    "from spectral_networks.nn.models import ReLUNet\n",
    "from transform_datasets.patterns.synthetic import *\n",
    "from transform_datasets.transforms import *\n",
    "from transform_datasets.utils.wandb import load_or_create_dataset\n",
    "from torch_tools.trainer import Trainer\n",
    "from torch_tools.logger import WBLogger\n",
    "from torch_tools.config import Config\n",
    "from torch_tools.data import TrainValLoader\n",
    "from pytorch_metric_learning import losses, distances\n",
    "from torch.optim import Adam"
   ]
  },
  {
   "cell_type": "code",
   "execution_count": 2,
   "id": "fe2f70b3-8861-4c11-b5dd-83fe7fda9382",
   "metadata": {},
   "outputs": [],
   "source": [
    "\n",
    "DATA_PROJECT = \"dataset\"\n",
    "MODEL_PROJECT = \"bispectrum\"\n",
    "ENTITY = \"naturalcomputation\"\n",
    "DEVICE = \"cuda:0\"\n",
    "SEED = 0\n",
    "\n",
    "\"\"\"\n",
    "DATASET\n",
    "\"\"\"\n",
    "\n",
    "dataset_config = Config(\n",
    "    {\n",
    "        \"type\": HarmonicsS1,\n",
    "        \"params\": {\"dim\": 256, \"n_classes\": 10, \"seed\": 5},\n",
    "    }\n",
    ")\n",
    "\n",
    "transforms_config = {\n",
    "    \"0\": Config(\n",
    "        {\n",
    "            \"type\": CyclicTranslation1D,\n",
    "            \"params\": {\n",
    "                \"fraction_transforms\": 1.0,\n",
    "                \"sample_method\": \"linspace\",\n",
    "            },\n",
    "        }\n",
    "    ),\n",
    "    \"1\": Config(\n",
    "        {\n",
    "            \"type\": UniformNoise,\n",
    "            \"params\": {\"n_samples\": 1, \"magnitude\": 0.1},\n",
    "        }\n",
    "    ),\n",
    "}\n",
    "\n",
    "\n",
    "tdataset_config = {\"dataset\": dataset_config, \"transforms\": transforms_config}\n",
    "\n",
    "dataset = load_or_create_dataset(tdataset_config, DATA_PROJECT, ENTITY)\n",
    "\n",
    "\"\"\"\n",
    "DATA_LOADER\n",
    "\"\"\"\n",
    "\n",
    "data_loader_config = Config(\n",
    "    {\n",
    "        \"type\": TrainValLoader,\n",
    "        \"params\": {\n",
    "            \"batch_size\": 32,\n",
    "            \"fraction_val\": 0.2,\n",
    "            \"num_workers\": 1,\n",
    "            \"seed\": SEED,\n",
    "        },\n",
    "    }\n",
    ")\n",
    "\n",
    "data_loader = data_loader_config.build()\n",
    "data_loader.load(dataset)\n",
    "\n"
   ]
  },
  {
   "cell_type": "code",
   "execution_count": 3,
   "id": "d800d3b4-1680-4eec-a776-27fb09f0f745",
   "metadata": {},
   "outputs": [
    {
     "name": "stderr",
     "output_type": "stream",
     "text": [
      "\u001b[34m\u001b[1mwandb\u001b[0m: Currently logged in as: \u001b[33mshewmake\u001b[0m (use `wandb login --relogin` to force relogin)\n",
      "\u001b[34m\u001b[1mwandb\u001b[0m: wandb version 0.12.0 is available!  To upgrade, please run:\n",
      "\u001b[34m\u001b[1mwandb\u001b[0m:  $ pip install wandb --upgrade\n"
     ]
    },
    {
     "data": {
      "text/html": [
       "\n",
       "                Tracking run with wandb version 0.11.0<br/>\n",
       "                Syncing run <strong style=\"color:#cdcd00\">wise-night-64</strong> to <a href=\"https://wandb.ai\" target=\"_blank\">Weights & Biases</a> <a href=\"https://docs.wandb.com/integrations/jupyter.html\" target=\"_blank\">(Documentation)</a>.<br/>\n",
       "                Project page: <a href=\"https://wandb.ai/naturalcomputation/bispectrum\" target=\"_blank\">https://wandb.ai/naturalcomputation/bispectrum</a><br/>\n",
       "                Run page: <a href=\"https://wandb.ai/naturalcomputation/bispectrum/runs/3lwyq67w\" target=\"_blank\">https://wandb.ai/naturalcomputation/bispectrum/runs/3lwyq67w</a><br/>\n",
       "                Run data is saved locally in <code>/home/christians/learning-lie-groups/torch-tools/examples/wandb/run-20210811_165106-3lwyq67w</code><br/><br/>\n",
       "            "
      ],
      "text/plain": [
       "<IPython.core.display.HTML object>"
      ]
     },
     "metadata": {},
     "output_type": "display_data"
    }
   ],
   "source": [
    "\n",
    "\"\"\"\n",
    "MODEL\n",
    "\"\"\"\n",
    "model_config = Config(\n",
    "    {\n",
    "        \"type\": ReLUNet,\n",
    "        \"params\": {\n",
    "            \"size_in\": dataset.dim,\n",
    "            \"hdim\": [256],\n",
    "            \"seed\": SEED,\n",
    "            \"device\": 'cuda:0'\n",
    "        },\n",
    "    }\n",
    ")\n",
    "model = model_config.build()\n",
    "\n",
    "\"\"\"\n",
    "OPTIMIZER\n",
    "\"\"\"\n",
    "optimizer_config = Config({\"type\": Adam, \"params\": {\"lr\": 0.001}})\n",
    "# optimizer = optimizer_config.build()\n",
    "\n",
    "\"\"\"\n",
    "LOSS\n",
    "\"\"\"\n",
    "loss_config = Config(\n",
    "    {\n",
    "        \"type\": losses.ContrastiveLoss,\n",
    "        \"params\": {\n",
    "            \"pos_margin\": 0,\n",
    "            \"neg_margin\": 1,\n",
    "            \"distance\": distances.LpDistance(),\n",
    "        },\n",
    "    }\n",
    ")\n",
    "loss = loss_config.build()\n",
    "\n",
    "\"\"\"\n",
    "MASTER CONFIG\n",
    "\"\"\"\n",
    "\n",
    "config = {\n",
    "    \"dataset\": dataset_config,\n",
    "    \"model\": model_config,\n",
    "    \"optimizer\": optimizer_config,\n",
    "    \"loss\": loss_config,\n",
    "    \"data_loader\": data_loader_config,\n",
    "}\n",
    "\n",
    "\"\"\"\n",
    "LOGGING\n",
    "\"\"\"\n",
    "logging_config = Config(\n",
    "    {\n",
    "        \"type\": WBLogger,\n",
    "        \"params\": {\n",
    "            \"config\": config,\n",
    "            \"project\": MODEL_PROJECT,\n",
    "            \"entity\": ENTITY,\n",
    "            \"log_interval\": 10,\n",
    "            \"watch_interval\": 10 * len(data_loader.train),\n",
    "        },\n",
    "    }\n",
    ")\n",
    "\n",
    "logger = logging_config.build()\n"
   ]
  },
  {
   "cell_type": "code",
   "execution_count": 6,
   "id": "82a14649-b213-4621-89d8-853af0e23e7c",
   "metadata": {},
   "outputs": [],
   "source": [
    "\"\"\"\n",
    "TRAINER\n",
    "\"\"\"\n",
    "\n",
    "training_config = Config(\n",
    "    {\n",
    "        \"type\": Trainer,\n",
    "        \"params\": {\n",
    "            \"model\": model,\n",
    "            \"loss\": loss,\n",
    "            \"logger\": logger,\n",
    "            \"device\": DEVICE,\n",
    "            \"optimizer_config\": optimizer_config,\n",
    "        },\n",
    "    }\n",
    ")\n",
    "\n",
    "trainer = training_config.build()"
   ]
  },
  {
   "cell_type": "code",
   "execution_count": 8,
   "id": "9837cb4e-43b6-455b-972b-98426d4308ed",
   "metadata": {},
   "outputs": [
    {
     "name": "stdout",
     "output_type": "stream",
     "text": [
      "Epoch 0  ||  N Examples 0 || Training Loss: 1.17979  |  Validation Loss: 1.16959\n",
      "Epoch 1  ||  N Examples 2560 || Training Loss: 1.16935  |  Validation Loss: 1.15554\n",
      "Epoch 2  ||  N Examples 5120 || Training Loss: 1.15042  |  Validation Loss: 1.15476\n",
      "Epoch 3  ||  N Examples 7680 || Training Loss: 1.15296  |  Validation Loss: 1.15147\n",
      "Epoch 4  ||  N Examples 10240 || Training Loss: 1.13832  |  Validation Loss: 1.15255\n",
      "Epoch 5  ||  N Examples 12800 || Training Loss: 1.13202  |  Validation Loss: 1.13471\n",
      "Epoch 6  ||  N Examples 15360 || Training Loss: 1.12699  |  Validation Loss: 1.12398\n",
      "Epoch 7  ||  N Examples 17920 || Training Loss: 1.11811  |  Validation Loss: 1.13606\n",
      "Epoch 8  ||  N Examples 20480 || Training Loss: 1.11347  |  Validation Loss: 1.11144\n",
      "Epoch 9  ||  N Examples 23040 || Training Loss: 1.10666  |  Validation Loss: 1.10335\n",
      "Epoch 10  ||  N Examples 25600 || Training Loss: 1.09435  |  Validation Loss: 1.10278\n"
     ]
    },
    {
     "data": {
      "text/html": [
       "<br/>Waiting for W&B process to finish, PID 11575<br/>Program ended successfully."
      ],
      "text/plain": [
       "<IPython.core.display.HTML object>"
      ]
     },
     "metadata": {},
     "output_type": "display_data"
    },
    {
     "data": {
      "application/vnd.jupyter.widget-view+json": {
       "model_id": "",
       "version_major": 2,
       "version_minor": 0
      },
      "text/plain": [
       "VBox(children=(Label(value=' 0.00MB of 0.00MB uploaded (0.00MB deduped)\\r'), FloatProgress(value=1.0, max=1.0)…"
      ]
     },
     "metadata": {},
     "output_type": "display_data"
    },
    {
     "data": {
      "text/html": [
       "Find user logs for this run at: <code>/home/christians/learning-lie-groups/torch-tools/examples/wandb/run-20210811_165106-3lwyq67w/logs/debug.log</code>"
      ],
      "text/plain": [
       "<IPython.core.display.HTML object>"
      ]
     },
     "metadata": {},
     "output_type": "display_data"
    },
    {
     "data": {
      "text/html": [
       "Find internal logs for this run at: <code>/home/christians/learning-lie-groups/torch-tools/examples/wandb/run-20210811_165106-3lwyq67w/logs/debug-internal.log</code>"
      ],
      "text/plain": [
       "<IPython.core.display.HTML object>"
      ]
     },
     "metadata": {},
     "output_type": "display_data"
    },
    {
     "data": {
      "text/html": [
       "<h3>Run summary:</h3><br/><style>\n",
       "    table.wandb td:nth-child(1) { padding: 0 10px; text-align: right }\n",
       "    </style><table class=\"wandb\">\n",
       "<tr><td>train_total_loss</td><td>1.09435</td></tr><tr><td>epoch</td><td>10</td></tr><tr><td>n_examples</td><td>25600</td></tr><tr><td>_runtime</td><td>13</td></tr><tr><td>_timestamp</td><td>1628725879</td></tr><tr><td>_step</td><td>3</td></tr><tr><td>val_total_loss</td><td>1.10278</td></tr></table>"
      ],
      "text/plain": [
       "<IPython.core.display.HTML object>"
      ]
     },
     "metadata": {},
     "output_type": "display_data"
    },
    {
     "data": {
      "text/html": [
       "<h3>Run history:</h3><br/><style>\n",
       "    table.wandb td:nth-child(1) { padding: 0 10px; text-align: right }\n",
       "    </style><table class=\"wandb\">\n",
       "<tr><td>train_total_loss</td><td>█▁</td></tr><tr><td>epoch</td><td>▁▁██</td></tr><tr><td>n_examples</td><td>▁▁██</td></tr><tr><td>_runtime</td><td>▁▂██</td></tr><tr><td>_timestamp</td><td>▁▂██</td></tr><tr><td>_step</td><td>▁▃▆█</td></tr><tr><td>val_total_loss</td><td>█▁</td></tr></table><br/>"
      ],
      "text/plain": [
       "<IPython.core.display.HTML object>"
      ]
     },
     "metadata": {},
     "output_type": "display_data"
    },
    {
     "data": {
      "text/html": [
       "Synced 6 W&B file(s), 0 media file(s), 0 artifact file(s) and 0 other file(s)"
      ],
      "text/plain": [
       "<IPython.core.display.HTML object>"
      ]
     },
     "metadata": {},
     "output_type": "display_data"
    },
    {
     "data": {
      "text/html": [
       "\n",
       "                    <br/>Synced <strong style=\"color:#cdcd00\">wise-night-64</strong>: <a href=\"https://wandb.ai/naturalcomputation/bispectrum/runs/3lwyq67w\" target=\"_blank\">https://wandb.ai/naturalcomputation/bispectrum/runs/3lwyq67w</a><br/>\n",
       "                "
      ],
      "text/plain": [
       "<IPython.core.display.HTML object>"
      ]
     },
     "metadata": {},
     "output_type": "display_data"
    }
   ],
   "source": [
    "trainer.train(data_loader, epochs = 10)"
   ]
  },
  {
   "cell_type": "code",
   "execution_count": 9,
   "id": "82a406e6-be22-466d-a84a-669e1d3a38b6",
   "metadata": {},
   "outputs": [
    {
     "name": "stderr",
     "output_type": "stream",
     "text": [
      "\u001b[34m\u001b[1mwandb\u001b[0m: wandb version 0.12.0 is available!  To upgrade, please run:\n",
      "\u001b[34m\u001b[1mwandb\u001b[0m:  $ pip install wandb --upgrade\n"
     ]
    },
    {
     "data": {
      "text/html": [
       "\n",
       "                Tracking run with wandb version 0.11.0<br/>\n",
       "                Resuming run <strong style=\"color:#cdcd00\">wise-night-64</strong> to <a href=\"https://wandb.ai\" target=\"_blank\">Weights & Biases</a> <a href=\"https://docs.wandb.com/integrations/jupyter.html\" target=\"_blank\">(Documentation)</a>.<br/>\n",
       "                Project page: <a href=\"https://wandb.ai/naturalcomputation/bispectrum\" target=\"_blank\">https://wandb.ai/naturalcomputation/bispectrum</a><br/>\n",
       "                Run page: <a href=\"https://wandb.ai/naturalcomputation/bispectrum/runs/3lwyq67w\" target=\"_blank\">https://wandb.ai/naturalcomputation/bispectrum/runs/3lwyq67w</a><br/>\n",
       "                Run data is saved locally in <code>/home/christians/learning-lie-groups/torch-tools/examples/wandb/run-20210811_165134-3lwyq67w</code><br/><br/>\n",
       "            "
      ],
      "text/plain": [
       "<IPython.core.display.HTML object>"
      ]
     },
     "metadata": {},
     "output_type": "display_data"
    },
    {
     "name": "stdout",
     "output_type": "stream",
     "text": [
      "Epoch 10  ||  N Examples 28160 || Training Loss: 1.10065  |  Validation Loss: 1.11592\n",
      "Epoch 11  ||  N Examples 30720 || Training Loss: 1.09765  |  Validation Loss: 1.08472\n",
      "Epoch 12  ||  N Examples 33280 || Training Loss: 1.09369  |  Validation Loss: 1.08569\n",
      "Epoch 13  ||  N Examples 35840 || Training Loss: 1.08431  |  Validation Loss: 1.09072\n",
      "Epoch 14  ||  N Examples 38400 || Training Loss: 1.08414  |  Validation Loss: 1.08653\n",
      "Epoch 15  ||  N Examples 40960 || Training Loss: 1.08248  |  Validation Loss: 1.09383\n",
      "Epoch 16  ||  N Examples 43520 || Training Loss: 1.08329  |  Validation Loss: 1.08461\n",
      "Epoch 17  ||  N Examples 46080 || Training Loss: 1.06725  |  Validation Loss: 1.09197\n",
      "Epoch 18  ||  N Examples 48640 || Training Loss: 1.07342  |  Validation Loss: 1.08721\n",
      "Epoch 19  ||  N Examples 51200 || Training Loss: 1.06250  |  Validation Loss: 1.07853\n",
      "Epoch 20  ||  N Examples 53760 || Training Loss: 1.07085  |  Validation Loss: 1.09269\n",
      "Epoch 21  ||  N Examples 56320 || Training Loss: 1.07713  |  Validation Loss: 1.07140\n",
      "Epoch 22  ||  N Examples 58880 || Training Loss: 1.07101  |  Validation Loss: 1.08931\n",
      "Epoch 23  ||  N Examples 61440 || Training Loss: 1.06649  |  Validation Loss: 1.09229\n",
      "Epoch 24  ||  N Examples 64000 || Training Loss: 1.06286  |  Validation Loss: 1.07577\n",
      "Epoch 25  ||  N Examples 66560 || Training Loss: 1.06399  |  Validation Loss: 1.07015\n"
     ]
    },
    {
     "data": {
      "text/html": [
       "<br/>Waiting for W&B process to finish, PID 12124<br/>Program ended successfully."
      ],
      "text/plain": [
       "<IPython.core.display.HTML object>"
      ]
     },
     "metadata": {},
     "output_type": "display_data"
    },
    {
     "data": {
      "application/vnd.jupyter.widget-view+json": {
       "model_id": "",
       "version_major": 2,
       "version_minor": 0
      },
      "text/plain": [
       "VBox(children=(Label(value=' 0.00MB of 0.00MB uploaded (0.00MB deduped)\\r'), FloatProgress(value=1.0, max=1.0)…"
      ]
     },
     "metadata": {},
     "output_type": "display_data"
    },
    {
     "data": {
      "text/html": [
       "Find user logs for this run at: <code>/home/christians/learning-lie-groups/torch-tools/examples/wandb/run-20210811_165134-3lwyq67w/logs/debug.log</code>"
      ],
      "text/plain": [
       "<IPython.core.display.HTML object>"
      ]
     },
     "metadata": {},
     "output_type": "display_data"
    },
    {
     "data": {
      "text/html": [
       "Find internal logs for this run at: <code>/home/christians/learning-lie-groups/torch-tools/examples/wandb/run-20210811_165134-3lwyq67w/logs/debug-internal.log</code>"
      ],
      "text/plain": [
       "<IPython.core.display.HTML object>"
      ]
     },
     "metadata": {},
     "output_type": "display_data"
    },
    {
     "data": {
      "text/html": [
       "<h3>Run summary:</h3><br/><style>\n",
       "    table.wandb td:nth-child(1) { padding: 0 10px; text-align: right }\n",
       "    </style><table class=\"wandb\">\n",
       "<tr><td>train_total_loss</td><td>1.07085</td></tr><tr><td>_step</td><td>8</td></tr><tr><td>epoch</td><td>20</td></tr><tr><td>_runtime</td><td>25</td></tr><tr><td>_timestamp</td><td>1628725905</td></tr><tr><td>n_examples</td><td>53760</td></tr><tr><td>val_total_loss</td><td>1.09269</td></tr></table>"
      ],
      "text/plain": [
       "<IPython.core.display.HTML object>"
      ]
     },
     "metadata": {},
     "output_type": "display_data"
    },
    {
     "data": {
      "text/html": [
       "<h3>Run history:</h3><br/><style>\n",
       "    table.wandb td:nth-child(1) { padding: 0 10px; text-align: right }\n",
       "    </style><table class=\"wandb\">\n",
       "<tr><td>train_total_loss</td><td>█▁</td></tr><tr><td>epoch</td><td>▁▁██</td></tr><tr><td>n_examples</td><td>▁▁██</td></tr><tr><td>_runtime</td><td>▁▂▆▆█</td></tr><tr><td>_timestamp</td><td>▁▂▆▆█</td></tr><tr><td>_step</td><td>▁▃▅▆█</td></tr><tr><td>val_total_loss</td><td>█▁</td></tr></table><br/>"
      ],
      "text/plain": [
       "<IPython.core.display.HTML object>"
      ]
     },
     "metadata": {},
     "output_type": "display_data"
    },
    {
     "data": {
      "text/html": [
       "Synced 3 W&B file(s), 0 media file(s), 0 artifact file(s) and 0 other file(s)"
      ],
      "text/plain": [
       "<IPython.core.display.HTML object>"
      ]
     },
     "metadata": {},
     "output_type": "display_data"
    },
    {
     "data": {
      "text/html": [
       "\n",
       "                    <br/>Synced <strong style=\"color:#cdcd00\">wise-night-64</strong>: <a href=\"https://wandb.ai/naturalcomputation/bispectrum/runs/3lwyq67w\" target=\"_blank\">https://wandb.ai/naturalcomputation/bispectrum/runs/3lwyq67w</a><br/>\n",
       "                "
      ],
      "text/plain": [
       "<IPython.core.display.HTML object>"
      ]
     },
     "metadata": {},
     "output_type": "display_data"
    }
   ],
   "source": [
    "trainer.resume(data_loader, epochs=15)"
   ]
  }
 ],
 "metadata": {
  "kernelspec": {
   "display_name": "“torch18”",
   "language": "python",
   "name": "torch18"
  },
  "language_info": {
   "codemirror_mode": {
    "name": "ipython",
    "version": 3
   },
   "file_extension": ".py",
   "mimetype": "text/x-python",
   "name": "python",
   "nbconvert_exporter": "python",
   "pygments_lexer": "ipython3",
   "version": "3.9.2"
  }
 },
 "nbformat": 4,
 "nbformat_minor": 5
}
