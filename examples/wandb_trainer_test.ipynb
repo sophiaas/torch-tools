{
 "cells": [
  {
   "cell_type": "code",
   "execution_count": 1,
   "id": "0161cf87-9394-449f-b70d-b20ec66923aa",
   "metadata": {},
   "outputs": [],
   "source": [
    "%load_ext autoreload\n",
    "%autoreload 2\n"
   ]
  },
  {
   "cell_type": "code",
   "execution_count": 2,
   "id": "852f27bf-c8d4-4b95-9ee9-16d28cc03bba",
   "metadata": {},
   "outputs": [],
   "source": [
    "from spectral_networks.nn.models import ReLUNet\n",
    "from spectral_networks.nn.cplx.models import BispectralEmbedding\n",
    "from transform_datasets.patterns.synthetic import *\n",
    "from transform_datasets.transforms import *\n",
    "from transform_datasets.utils.wandb import load_or_create_dataset\n",
    "from torch_tools.trainer import Trainer\n",
    "from torch_tools.logger import WBLogger\n",
    "from torch_tools.config import Config\n",
    "from torch_tools.regularizer import Regularizer, MultiRegularizer\n",
    "from torch_tools.functional import l1_norm\n",
    "\n",
    "from torch_tools.data import TrainValLoader\n",
    "from pytorch_metric_learning import losses, distances\n",
    "from torch.optim import Adam\n",
    "\n",
    "from torch_tools.plotter import Plotter, MultiPlotter\n",
    "from spectral_networks.analysis.wandb import gen_UVW_analysis_plots_1D, gen_train_val_spectrum_plot_1d\n",
    "from spectral_networks.analysis.wandb import gen_avg_data_spectrum_plot_2D, gen_UVW_analysis_plots_2D"
   ]
  },
  {
   "cell_type": "code",
   "execution_count": 3,
   "id": "c67cf47e-1b86-4903-9be2-79088bc40253",
   "metadata": {},
   "outputs": [
    {
     "data": {
      "text/plain": [
       "False"
      ]
     },
     "execution_count": 3,
     "metadata": {},
     "output_type": "execute_result"
    }
   ],
   "source": [
    "import matplotlib as mpl \n",
    "import matplotlib.pyplot as plt\n",
    "plt.ioff()\n",
    "mpl.is_interactive()\n"
   ]
  },
  {
   "cell_type": "code",
   "execution_count": 4,
   "id": "fe2f70b3-8861-4c11-b5dd-83fe7fda9382",
   "metadata": {},
   "outputs": [],
   "source": [
    "DATA_PROJECT = \"dataset\"\n",
    "MODEL_PROJECT = \"bispectrum\"\n",
    "ENTITY = \"naturalcomputation\"\n",
    "DEVICE = \"cpu\"\n",
    "SEED = 0\n",
    "\n",
    "\"\"\"\n",
    "DATASET\n",
    "\"\"\"\n",
    "\n",
    "dataset_config = Config(\n",
    "    {\n",
    "        \"type\": HarmonicsS1,\n",
    "        \"params\": {\"dim\": 256, \"n_classes\": 10, \"seed\": 5},\n",
    "    }\n",
    ")\n",
    "\n",
    "transforms_config = {\n",
    "    \"0\": Config(\n",
    "        {\n",
    "            \"type\": CyclicTranslation1D,\n",
    "            \"params\": {\n",
    "                \"fraction_transforms\": 1.0,\n",
    "                \"sample_method\": \"linspace\",\n",
    "            },\n",
    "        }\n",
    "    ),\n",
    "    \"1\": Config(\n",
    "        {\n",
    "            \"type\": UniformNoise,\n",
    "            \"params\": {\"n_samples\": 1, \"magnitude\": 0.1},\n",
    "        }\n",
    "    ),\n",
    "}\n",
    "\n",
    "\n",
    "tdataset_config = {\"dataset\": dataset_config, \"transforms\": transforms_config}\n",
    "\n",
    "dataset = load_or_create_dataset(tdataset_config, DATA_PROJECT, ENTITY)\n",
    "\n",
    "\"\"\"\n",
    "DATA_LOADER\n",
    "\"\"\"\n",
    "\n",
    "data_loader_config = Config(\n",
    "    {\n",
    "        \"type\": TrainValLoader,\n",
    "        \"params\": {\n",
    "            \"batch_size\": 32,\n",
    "            \"fraction_val\": 0.2,\n",
    "            \"num_workers\": 1,\n",
    "            \"seed\": SEED,\n",
    "        },\n",
    "    }\n",
    ")\n",
    "\n",
    "data_loader = data_loader_config.build()\n",
    "data_loader.load(dataset)"
   ]
  },
  {
   "cell_type": "code",
   "execution_count": 5,
   "id": "d800d3b4-1680-4eec-a776-27fb09f0f745",
   "metadata": {},
   "outputs": [
    {
     "name": "stderr",
     "output_type": "stream",
     "text": [
      "/home/christians/miniconda3/envs/torch18/lib/python3.9/site-packages/torch/nn/modules/container.py:569: UserWarning:\n",
      "\n",
      "Setting attributes on ParameterDict is not supported.\n",
      "\n",
      "\u001b[34m\u001b[1mwandb\u001b[0m: Currently logged in as: \u001b[33mshewmake\u001b[0m (use `wandb login --relogin` to force relogin)\n",
      "\u001b[34m\u001b[1mwandb\u001b[0m: wandb version 0.12.0 is available!  To upgrade, please run:\n",
      "\u001b[34m\u001b[1mwandb\u001b[0m:  $ pip install wandb --upgrade\n"
     ]
    },
    {
     "data": {
      "text/html": [
       "\n",
       "                Tracking run with wandb version 0.11.0<br/>\n",
       "                Syncing run <strong style=\"color:#cdcd00\">drawn-plant-111</strong> to <a href=\"https://wandb.ai\" target=\"_blank\">Weights & Biases</a> <a href=\"https://docs.wandb.com/integrations/jupyter.html\" target=\"_blank\">(Documentation)</a>.<br/>\n",
       "                Project page: <a href=\"https://wandb.ai/naturalcomputation/bispectrum\" target=\"_blank\">https://wandb.ai/naturalcomputation/bispectrum</a><br/>\n",
       "                Run page: <a href=\"https://wandb.ai/naturalcomputation/bispectrum/runs/18uxit0x\" target=\"_blank\">https://wandb.ai/naturalcomputation/bispectrum/runs/18uxit0x</a><br/>\n",
       "                Run data is saved locally in <code>/home/christians/learning-lie-groups/torch-tools/examples/wandb/run-20210812_154553-18uxit0x</code><br/><br/>\n",
       "            "
      ],
      "text/plain": [
       "<IPython.core.display.HTML object>"
      ]
     },
     "metadata": {},
     "output_type": "display_data"
    }
   ],
   "source": [
    "\"\"\"\n",
    "MODEL\n",
    "\"\"\"\n",
    "model_config = Config(\n",
    "    {\n",
    "        \"type\": BispectralEmbedding,\n",
    "        \"params\": {\n",
    "            \"size_in\": dataset.dim,\n",
    "            \"hdim\": 256,\n",
    "            \"seed\": SEED,\n",
    "            \"device\": DEVICE\n",
    "        },\n",
    "    }\n",
    ")\n",
    "model = model_config.build()\n",
    "\n",
    "\"\"\"\n",
    "OPTIMIZER\n",
    "\"\"\"\n",
    "optimizer_config = Config({\"type\": Adam, \"params\": {\"lr\": 0.001}})\n",
    "# optimizer = optimizer_config.build()\n",
    "\n",
    "\n",
    "'''\n",
    "REGULARIZER\n",
    "'''\n",
    "regularizer_config1 = Config({'type': Regularizer, 'params': {'function': l1_norm, \n",
    "                                              'variables': ['out'],\n",
    "                                              'coefficient': 0.1\n",
    "                                             }\n",
    "                         })\n",
    "\n",
    "regularizer_config2 = Config({'type': Regularizer, 'params': {'function': l1_norm, \n",
    "                                              'variables': ['out'],\n",
    "                                              'coefficient': 0.01\n",
    "                                             }\n",
    "                         })\n",
    "\n",
    "multiregularizer_config = Config({'type': MultiRegularizer, 'params': {'regularizer_configs': [regularizer_config1, regularizer_config2]}})\n",
    "regularizer = multiregularizer_config.build()\n",
    "\n",
    "\n",
    "\"\"\"\n",
    "LOSS\n",
    "\"\"\"\n",
    "loss_config = Config(\n",
    "    {\n",
    "        \"type\": losses.ContrastiveLoss,\n",
    "        \"params\": {\n",
    "            \"pos_margin\": 0,\n",
    "            \"neg_margin\": 1,\n",
    "            \"distance\": distances.LpDistance(),\n",
    "        },\n",
    "    }\n",
    ")\n",
    "loss = loss_config.build()\n",
    "\n",
    "\"\"\"\n",
    "MASTER CONFIG\n",
    "\"\"\"\n",
    "\n",
    "config = {\n",
    "    \"dataset\": dataset_config,\n",
    "    \"model\": model_config,\n",
    "    \"optimizer\": optimizer_config,\n",
    "    \"loss\": loss_config,\n",
    "    \"data_loader\": data_loader_config,\n",
    "}\n",
    "\n",
    "'''\n",
    "PLOTTER\n",
    "'''\n",
    "# step_plotter_config = Config({'type': Plotter, 'params': {'function': gen_UVW_analysis_plots_1D, \n",
    "#                                               'variables': ['model'],\n",
    "#                                               'f_params': {'use_wandb': True}\n",
    "#                                              }\n",
    "#                          })\n",
    "\n",
    "\n",
    "end_plotter_config = Config({'type': Plotter, 'params': {'function': gen_train_val_spectrum_plot_1d, \n",
    "                                              'variables': ['data_loader'],\n",
    "                                              'f_params': {},\n",
    "                                             }\n",
    "                         })\n",
    "\n",
    "# multiplotter_config = Config({'type': MultiPlotter, 'params': {'plotter_configs': [plotter_config2, plotter_config3]}})\n",
    "# plotter = multiplotter_config.build()\n",
    "\n",
    "# step_plotter = step_plotter_config.build()\n",
    "end_plotter = end_plotter_config.build()\n",
    "\n",
    "\"\"\"\n",
    "LOGGING\n",
    "\"\"\"\n",
    "logging_config = Config(\n",
    "    {\n",
    "        \"type\": WBLogger,\n",
    "        \"params\": {\n",
    "            \"config\": config,\n",
    "            \"project\": MODEL_PROJECT,\n",
    "            \"entity\": ENTITY,\n",
    "            \"log_interval\": 2, # len(data_loader.train),\n",
    "            \"watch_interval\": 1, #len(data_loader.train),\n",
    "            \"end_plotter\": end_plotter,\n",
    "#             \"step_plotter\": step_plotter\n",
    "        },\n",
    "    }\n",
    ")\n",
    "\n",
    "logger = logging_config.build()\n"
   ]
  },
  {
   "cell_type": "code",
   "execution_count": 6,
   "id": "82a14649-b213-4621-89d8-853af0e23e7c",
   "metadata": {},
   "outputs": [],
   "source": [
    "\"\"\"\n",
    "TRAINER\n",
    "\"\"\"\n",
    "\n",
    "training_config = Config(\n",
    "    {\n",
    "        \"type\": Trainer,\n",
    "        \"params\": {\n",
    "            \"model\": model,\n",
    "            \"loss\": loss,\n",
    "            \"logger\": logger,\n",
    "            \"regularizer\": regularizer,\n",
    "            \"device\": DEVICE,\n",
    "            \"optimizer_config\": optimizer_config,\n",
    "        },\n",
    "    }\n",
    ")\n",
    "\n",
    "trainer = training_config.build()"
   ]
  },
  {
   "cell_type": "code",
   "execution_count": 7,
   "id": "9837cb4e-43b6-455b-972b-98426d4308ed",
   "metadata": {},
   "outputs": [
    {
     "name": "stdout",
     "output_type": "stream",
     "text": [
      "Epoch 0 ||  N Examples 0 || Train Total Loss 146.63321 || Validation Total Loss 29.74714\n",
      "Epoch 1 ||  N Examples 2560 || Train Total Loss 16.41786 || Validation Total Loss 10.43725\n",
      "Epoch 2 ||  N Examples 5120 || Train Total Loss 7.55866 || Validation Total Loss 6.33664\n",
      "Epoch 3 ||  N Examples 7680 || Train Total Loss 5.14227 || Validation Total Loss 4.74386\n",
      "Epoch 4 ||  N Examples 10240 || Train Total Loss 4.07958 || Validation Total Loss 3.94973\n",
      "Epoch 5 ||  N Examples 12800 || Train Total Loss 3.51584 || Validation Total Loss 3.49008\n",
      "Epoch 6 ||  N Examples 15360 || Train Total Loss 3.17452 || Validation Total Loss 3.19145\n",
      "Epoch 7 ||  N Examples 17920 || Train Total Loss 2.95183 || Validation Total Loss 2.99191\n",
      "Epoch 8 ||  N Examples 20480 || Train Total Loss 2.79136 || Validation Total Loss 2.84261\n",
      "Epoch 9 ||  N Examples 23040 || Train Total Loss 2.67384 || Validation Total Loss 2.72732\n",
      "Epoch 10 ||  N Examples 25600 || Train Total Loss 2.58445 || Validation Total Loss 2.64069\n"
     ]
    },
    {
     "data": {
      "text/html": [
       "<br/>Waiting for W&B process to finish, PID 22204<br/>Program ended successfully."
      ],
      "text/plain": [
       "<IPython.core.display.HTML object>"
      ]
     },
     "metadata": {},
     "output_type": "display_data"
    },
    {
     "data": {
      "application/vnd.jupyter.widget-view+json": {
       "model_id": "",
       "version_major": 2,
       "version_minor": 0
      },
      "text/plain": [
       "VBox(children=(Label(value=' 0.03MB of 0.03MB uploaded (0.00MB deduped)\\r'), FloatProgress(value=1.0, max=1.0)…"
      ]
     },
     "metadata": {},
     "output_type": "display_data"
    },
    {
     "data": {
      "text/html": [
       "Find user logs for this run at: <code>/home/christians/learning-lie-groups/torch-tools/examples/wandb/run-20210812_154553-18uxit0x/logs/debug.log</code>"
      ],
      "text/plain": [
       "<IPython.core.display.HTML object>"
      ]
     },
     "metadata": {},
     "output_type": "display_data"
    },
    {
     "data": {
      "text/html": [
       "Find internal logs for this run at: <code>/home/christians/learning-lie-groups/torch-tools/examples/wandb/run-20210812_154553-18uxit0x/logs/debug-internal.log</code>"
      ],
      "text/plain": [
       "<IPython.core.display.HTML object>"
      ]
     },
     "metadata": {},
     "output_type": "display_data"
    },
    {
     "data": {
      "text/html": [
       "<h3>Run summary:</h3><br/><style>\n",
       "    table.wandb td:nth-child(1) { padding: 0 10px; text-align: right }\n",
       "    </style><table class=\"wandb\">\n",
       "<tr><td>train_loss</td><td>1.41363</td></tr><tr><td>train_reg_loss</td><td>1.17082</td></tr><tr><td>train_total_loss</td><td>2.58445</td></tr><tr><td>epoch</td><td>10</td></tr><tr><td>n_examples</td><td>25600</td></tr><tr><td>_runtime</td><td>18</td></tr><tr><td>_timestamp</td><td>1628808371</td></tr><tr><td>_step</td><td>22</td></tr><tr><td>val_loss</td><td>1.41295</td></tr><tr><td>val_reg_loss</td><td>1.22774</td></tr><tr><td>val_total_loss</td><td>2.64069</td></tr></table>"
      ],
      "text/plain": [
       "<IPython.core.display.HTML object>"
      ]
     },
     "metadata": {},
     "output_type": "display_data"
    },
    {
     "data": {
      "text/html": [
       "<h3>Run history:</h3><br/><style>\n",
       "    table.wandb td:nth-child(1) { padding: 0 10px; text-align: right }\n",
       "    </style><table class=\"wandb\">\n",
       "<tr><td>train_loss</td><td>▁▅██▇▇██▇▇▇</td></tr><tr><td>train_reg_loss</td><td>█▂▁▁▁▁▁▁▁▁▁</td></tr><tr><td>train_total_loss</td><td>█▂▁▁▁▁▁▁▁▁▁</td></tr><tr><td>epoch</td><td>▁▁▂▂▂▂▃▃▄▄▅▅▅▅▆▆▇▇▇▇██</td></tr><tr><td>n_examples</td><td>▁▁▂▂▂▂▃▃▄▄▅▅▅▅▆▆▇▇▇▇██</td></tr><tr><td>_runtime</td><td>▁▁▂▂▂▂▃▃▄▄▅▅▅▅▆▆▆▇▇▇▇▇█</td></tr><tr><td>_timestamp</td><td>▁▁▂▂▂▂▃▃▄▄▅▅▅▅▆▆▆▇▇▇▇▇█</td></tr><tr><td>_step</td><td>▁▁▂▂▂▃▃▃▄▄▄▅▅▅▅▆▆▆▇▇▇██</td></tr><tr><td>val_loss</td><td>██▃▇▄▇▁▅▇▄▄</td></tr><tr><td>val_reg_loss</td><td>█▃▂▂▁▁▁▁▁▁▁</td></tr><tr><td>val_total_loss</td><td>█▃▂▂▁▁▁▁▁▁▁</td></tr></table><br/>"
      ],
      "text/plain": [
       "<IPython.core.display.HTML object>"
      ]
     },
     "metadata": {},
     "output_type": "display_data"
    },
    {
     "data": {
      "text/html": [
       "Synced 6 W&B file(s), 2 media file(s), 0 artifact file(s) and 0 other file(s)"
      ],
      "text/plain": [
       "<IPython.core.display.HTML object>"
      ]
     },
     "metadata": {},
     "output_type": "display_data"
    },
    {
     "data": {
      "text/html": [
       "\n",
       "                    <br/>Synced <strong style=\"color:#cdcd00\">drawn-plant-111</strong>: <a href=\"https://wandb.ai/naturalcomputation/bispectrum/runs/18uxit0x\" target=\"_blank\">https://wandb.ai/naturalcomputation/bispectrum/runs/18uxit0x</a><br/>\n",
       "                "
      ],
      "text/plain": [
       "<IPython.core.display.HTML object>"
      ]
     },
     "metadata": {},
     "output_type": "display_data"
    }
   ],
   "source": [
    "trainer.train(data_loader, epochs = 10)"
   ]
  },
  {
   "cell_type": "code",
   "execution_count": 8,
   "id": "82a406e6-be22-466d-a84a-669e1d3a38b6",
   "metadata": {},
   "outputs": [],
   "source": [
    "# trainer.resume(data_loader, epochs=20)"
   ]
  },
  {
   "cell_type": "code",
   "execution_count": null,
   "id": "referenced-brake",
   "metadata": {},
   "outputs": [],
   "source": []
  },
  {
   "cell_type": "code",
   "execution_count": null,
   "id": "97f12974-ddab-446e-831d-aeaca0be94aa",
   "metadata": {},
   "outputs": [],
   "source": []
  }
 ],
 "metadata": {
  "kernelspec": {
   "display_name": "“torch18”",
   "language": "python",
   "name": "torch18"
  },
  "language_info": {
   "codemirror_mode": {
    "name": "ipython",
    "version": 3
   },
   "file_extension": ".py",
   "mimetype": "text/x-python",
   "name": "python",
   "nbconvert_exporter": "python",
   "pygments_lexer": "ipython3",
   "version": "3.9.2"
  }
 },
 "nbformat": 4,
 "nbformat_minor": 5
}
